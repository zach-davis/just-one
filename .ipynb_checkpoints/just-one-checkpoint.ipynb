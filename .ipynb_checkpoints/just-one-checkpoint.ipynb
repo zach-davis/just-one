{
 "cells": [
  {
   "cell_type": "markdown",
   "metadata": {},
   "source": [
    "# Just one"
   ]
  },
  {
   "cell_type": "markdown",
   "metadata": {},
   "source": [
    "<div class=\"alert alert-info\" role=\"alert\">\n",
    "Description from boardgamegeek.com: Just One is a cooperative party game in which you play together to discover as many mystery words as possible. Find the best clue to help your teammate. <b>Be unique, as all identical clues will be cancelled!</b>\n",
    "\n",
    "<br>\n",
    "\n",
    "A complete game is played over 13 cards. The goal is to get a score as close to 13 as possible. In case of a right answer, the players score 1 point. In case of wrong answer, they lose the current card as well as the top card of the deck. Thus losing 2 points. In case of lack of answer, the players only lose the current card, and therefore only 1 point.\n",
    "</div>"
   ]
  },
  {
   "cell_type": "markdown",
   "metadata": {},
   "source": [
    "## Set up\n",
    "Heavily borrowed from Sebastian Theiler's [tutorial](https://medium.com/analytics-vidhya/basics-of-using-pre-trained-glove-vectors-in-python-d38905f356db)"
   ]
  },
  {
   "cell_type": "markdown",
   "metadata": {},
   "source": [
    "### Importing libraries for general functioning of the project"
   ]
  },
  {
   "cell_type": "code",
   "execution_count": 1,
   "metadata": {},
   "outputs": [],
   "source": [
    "# typical imports\n",
    "import numpy as np\n",
    "import pandas as pd\n",
    "import matplotlib as plt\n",
    "import random\n",
    "import math\n",
    "# for embedding distances and plotting\n",
    "from scipy import spatial\n",
    "from sklearn.manifold import TSNE"
   ]
  },
  {
   "cell_type": "markdown",
   "metadata": {},
   "source": [
    "### Now getting word embeddings\n",
    "Using Wikipedia 2014 + Gigaword 5: (http://nlp.stanford.edu/data/glove.6B.zip)"
   ]
  },
  {
   "cell_type": "code",
   "execution_count": 2,
   "metadata": {},
   "outputs": [],
   "source": [
    "# dictionary to store embeddings\n",
    "embeddings_dict = {}\n",
    "# looping over each line of the glove file\n",
    "with open(\"../glove.6B/glove.6B.50d.txt\", 'r') as f:\n",
    "    for line in f:\n",
    "        values = line.split()\n",
    "        word = values[0]\n",
    "        vector = np.asarray(values[1:], \"float32\")\n",
    "        embeddings_dict[word] = vector"
   ]
  },
  {
   "cell_type": "code",
   "execution_count": 3,
   "metadata": {},
   "outputs": [
    {
     "data": {
      "text/plain": [
       "array([-0.22282 ,  0.078798, -1.1952  ,  0.072751], dtype=float32)"
      ]
     },
     "execution_count": 3,
     "metadata": {},
     "output_type": "execute_result"
    }
   ],
   "source": [
    "# test that it works\n",
    "embeddings_dict['counterfactual'][:4]"
   ]
  },
  {
   "cell_type": "markdown",
   "metadata": {},
   "source": [
    "### Simple processing"
   ]
  },
  {
   "cell_type": "code",
   "execution_count": 4,
   "metadata": {},
   "outputs": [],
   "source": [
    "# input:  word embedding\n",
    "# output: sorted list of closest words\n",
    "def find_closest_embeddings(embedding):\n",
    "    return sorted(embeddings_dict.keys(), \n",
    "                  key=lambda word: spatial.distance.euclidean(embeddings_dict[word], \n",
    "                                                              embedding))"
   ]
  },
  {
   "cell_type": "code",
   "execution_count": 5,
   "metadata": {
    "scrolled": true
   },
   "outputs": [
    {
     "data": {
      "text/plain": [
       "['failure',\n",
       " 'serious',\n",
       " 'result',\n",
       " 'risk',\n",
       " 'danger',\n",
       " 'fear',\n",
       " 'prevent',\n",
       " 'damage',\n",
       " 'suffer']"
      ]
     },
     "execution_count": 5,
     "metadata": {},
     "output_type": "execute_result"
    }
   ],
   "source": [
    "# test that it works\n",
    "find_closest_embeddings(embeddings_dict['cause'])[4:13]"
   ]
  },
  {
   "cell_type": "markdown",
   "metadata": {},
   "source": [
    "## The game\n",
    "The game involves two phases:\n",
    "1. Generation of hints from the \"hinters\"\n",
    "2. Guess of the secret word by the \"guesser\""
   ]
  },
  {
   "cell_type": "code",
   "execution_count": 6,
   "metadata": {},
   "outputs": [],
   "source": [
    "# takes in a secret word, passes to arbitrary hint function that generates hints, eliminates duplicates, then to arbitrary guess function\n",
    "# outputs 1 if the guess matches the hint, 0 otherwise\n",
    "def just_one(secret_word, hint_fn, guess_fn, n_hinters):\n",
    "    # gathering hints\n",
    "    hints = []\n",
    "    for hinter in range(n_hinters):\n",
    "        hints.append(hint_fn(secret_word, n_hinters))\n",
    "    \n",
    "    # removing duplicates\n",
    "    surviving_hints = []\n",
    "    for hint in hints:\n",
    "        tmp = hints.count(hint)\n",
    "        if tmp == 1: surviving_hints.append(hint)\n",
    "            \n",
    "    # just for now so i can see what's going on\n",
    "    print(hints)\n",
    "    print(surviving_hints)\n",
    "    \n",
    "    # passing to the guesser\n",
    "    guess = guess_fn(surviving_hints, n_hinters)\n",
    "    return(guess)"
   ]
  },
  {
   "cell_type": "markdown",
   "metadata": {},
   "source": [
    "### Simple functions to get the ball rolling"
   ]
  },
  {
   "cell_type": "markdown",
   "metadata": {},
   "source": [
    "#### Hinters"
   ]
  },
  {
   "cell_type": "code",
   "execution_count": 7,
   "metadata": {},
   "outputs": [],
   "source": [
    "# returns a random word\n",
    "def random_hinter(secret_word, n_hinters):\n",
    "    return(random.sample(embeddings_dict.keys(),1))\n",
    "\n",
    "# returns a random selection from the top 10 closest words\n",
    "def sort_hinter(secret_word, n_hinters):\n",
    "    tmp = find_closest_embeddings(embeddings_dict[secret_word])[:10]\n",
    "    return(random.choice(tmp))"
   ]
  },
  {
   "cell_type": "markdown",
   "metadata": {},
   "source": [
    "#### Guessers"
   ]
  },
  {
   "cell_type": "code",
   "execution_count": 8,
   "metadata": {},
   "outputs": [],
   "source": [
    "# guesses a random word\n",
    "def random_guesser(surviving_hints, n_hinters):\n",
    "    return(random.sample(embeddings_dict.keys(),1))\n",
    "\n",
    "# returns closest neighbor\n",
    "# ZD note: I actually don't know how to do this for multiple words!"
   ]
  },
  {
   "cell_type": "markdown",
   "metadata": {},
   "source": [
    "### Running the game"
   ]
  },
  {
   "cell_type": "code",
   "execution_count": 9,
   "metadata": {},
   "outputs": [
    {
     "name": "stdout",
     "output_type": "stream",
     "text": [
      "torzym\n",
      "['miłakowo', 'głuchołazy', 'miłomłyn', 'lubsko']\n",
      "['miłakowo', 'głuchołazy', 'miłomłyn', 'lubsko']\n"
     ]
    }
   ],
   "source": [
    "secret_word = ''.join(random.sample(embeddings_dict.keys(),1))\n",
    "print(secret_word)\n",
    "a = just_one(secret_word, sort_hinter, random_guesser, 4)"
   ]
  }
 ],
 "metadata": {
  "kernelspec": {
   "display_name": "Python 3",
   "language": "python",
   "name": "python3"
  },
  "language_info": {
   "codemirror_mode": {
    "name": "ipython",
    "version": 3
   },
   "file_extension": ".py",
   "mimetype": "text/x-python",
   "name": "python",
   "nbconvert_exporter": "python",
   "pygments_lexer": "ipython3",
   "version": "3.7.6"
  }
 },
 "nbformat": 4,
 "nbformat_minor": 2
}
